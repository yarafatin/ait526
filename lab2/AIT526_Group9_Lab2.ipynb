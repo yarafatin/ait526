{
 "cells": [
  {
   "cell_type": "markdown",
   "metadata": {
    "pycharm": {
     "name": "#%% md\n"
    }
   },
   "source": [
    "### AIT 526 - Natural Language Processing\n",
    "### Lab 2: Text Summarization for Webpage\n",
    "#### Group 9:\n",
    "#### Yasser Parambathkandy\n",
    "#### Indranil Pal\n",
    "#### 6/23/2023\n"
   ]
  },
  {
   "cell_type": "markdown",
   "source": [
    "##### Installation\n",
    "Install below packages before running notebook\n",
    "\n",
    "pip install nltk\n",
    "\n",
    "pip install matplotlib\n"
   ],
   "metadata": {
    "collapsed": false
   }
  },
  {
   "cell_type": "markdown",
   "source": [
    "##### Task 1 : Text Summarization with Word Frequencies </b>"
   ],
   "metadata": {
    "collapsed": false
   }
  },
  {
   "cell_type": "markdown",
   "metadata": {
    "pycharm": {
     "name": "#%% md\n"
    }
   },
   "source": [
    "1.1 Use the web scraping technique with BeautifulSoup to get the text data from the Wikipedia webpage"
   ]
  },
  {
   "cell_type": "code",
   "execution_count": 1,
   "metadata": {
    "pycharm": {
     "name": "#%%\n"
    },
    "ExecuteTime": {
     "end_time": "2023-06-24T22:51:05.915431800Z",
     "start_time": "2023-06-24T22:51:04.754404700Z"
    }
   },
   "outputs": [
    {
     "name": "stdout",
     "output_type": "stream",
     "text": [
      "Natural language processing (NLP) is an interdisciplinary subfield of linguistics, computer science, and artificial intelligence concerned with the interactions between computers and human language, in particular how to program computers to process and analyze large amounts of natural language data. The goal is a computer capable of \"understanding\" the contents of documents, including the contextual nuances of the language within them. The technology can then accurately extract information and insights contained in the documents as well as categorize and organize the documents themselves. Challenges in natural language processing frequently involve speech recognition, natural-language understanding, and natural-language generation. Natural language processing has its roots in the 1950s. Already in 1950, Alan Turing published an article titled \"Computing Machinery and Intelligence\" which proposed what is now called the Turing test as a criterion of intelligence, though at the time that was not articulated as a problem separate from artificial intelligence. The proposed test includes a task that involves the automated interpretation and generation of natural language. The premise of symbolic NLP is well-summarized by John Searle's Chinese room experiment: Given a collection of rules (e.g., a Chinese phrasebook, with questions and matching answers), the computer emulates natural language understanding (or other NLP tasks) by applying those rules to the data it confronts. Up to the 1980s, most natural language processing systems were based on complex sets of hand-written rules. Starting in the late 1980s, however, there was a revolution in natural language processing with the introduction of machine learning algorithms for language processing. This was due to both the steady increase in computational power (see Moore's law) and the gradual lessening of the dominance of Chomskyan theories of linguistics (e.g. transformational grammar), whose theoretical underpinnings discouraged the sort of corpus linguistics that underlies the machine-learning approach to language processing. In 2003, Yoshua Bengio with co-authors tried to use a multi-layer perceptron with a single hidden layer and context length of several words trained on up to 14 million of words with a CPU cluster in language modelling and overperformed the best of n-gram models (a typical statistical alogrithm) then available. In 2010, Tomáš Mikolov (then a PhD student at Brno University of Technology) with co-authors applied a simple recurrent neural network with a single hidden layer to language modelling, and in the following years he went on to develop Word2vec. In the 2010s, representation learning and deep neural network-style (featuring many hidden layers) machine learning methods became widespread in natural language processing. That popularity was due partly to a flurry of results showing that such techniques can achieve state-of-the-art results in many natural language tasks, e.g., in language modeling and parsing. This is increasingly important in medicine and healthcare, where NLP helps analyze notes and text in electronic health records that would otherwise be inaccessible for study when seeking to improve care or protect patient privacy. In the early days, many language-processing systems were designed by symbolic methods, i.e., the hand-coding of a set of rules, coupled with a dictionary lookup: such as by writing grammars or devising heuristic rules for stemming. More recent systems based on machine-learning algorithms have many advantages over hand-produced rules: Despite the popularity of machine learning in NLP research, symbolic methods are still (2020) commonly used: Since the so-called \"statistical revolution\" in the late 1980s and mid-1990s, much natural language processing research has relied heavily on machine learning. The machine-learning paradigm calls instead for using statistical inference to automatically learn such rules through the analysis of large corpora (the plural form of corpus, is a set of documents, possibly with human or computer annotations) of typical real-world examples. Many different classes of machine-learning algorithms have been applied to natural-language-processing tasks. These algorithms take as input a large set of \"features\" that are generated from the input data. Increasingly, however, research has focused on statistical models, which make soft, probabilistic decisions based on attaching real-valued weights to each input feature (complex-valued embeddings, and neural networks in general have also been proposed, for e.g. speech ). Such models have the advantage that they can express the relative certainty of many different possible answers rather than only one, producing more reliable results when such a model is included as a component of a larger system. Some of the earliest-used machine learning algorithms, such as decision trees, produced systems of hard if–then rules similar to existing handwritten rules. However, part-of-speech tagging introduced the use of hidden Markov models to natural language processing, and increasingly, research has focused on statistical models, which make soft, probabilistic decisions based on attaching real-valued weights to the features making up the input data. The cache language models upon which many speech recognition systems now rely are examples of such statistical models. Such models are generally more robust when given unfamiliar input, especially input that contains errors (as is very common for real-world data), and produce more reliable results when integrated into a larger system comprising multiple subtasks. Since the neural turn, statistical methods in NLP research have been largely replaced by neural networks. However, they continue to be relevant for contexts in which statistical interpretability and transparency is required. A major drawback of statistical methods is that they require elaborate feature engineering. Since 2015, the field has thus largely abandoned statistical methods and shifted to neural networks for machine learning. Popular techniques include the use of word embeddings to capture semantic properties of words, and an increase in end-to-end learning of a higher-level task (e.g., question answering) instead of relying on a pipeline of separate intermediate tasks (e.g., part-of-speech tagging and dependency parsing). In some areas, this shift has entailed substantial changes in how NLP systems are designed, such that deep neural network-based approaches may be viewed as a new paradigm distinct from statistical natural language processing. For instance, the term neural machine translation (NMT) emphasizes the fact that deep learning-based approaches to machine translation directly learn sequence-to-sequence transformations, obviating the need for intermediate steps such as word alignment and language modeling that was used in statistical machine translation (SMT). The following is a list of some of the most commonly researched tasks in natural language processing. Some of these tasks have direct real-world applications, while others more commonly serve as subtasks that are used to aid in solving larger tasks. Though natural language processing tasks are closely intertwined, they can be subdivided into categories for convenience. A coarse division is given below. Based on long-standing trends in the field, it is possible to extrapolate future directions of NLP. As of 2020, three trends among the topics of the long-standing series of CoNLL Shared Tasks can be observed: Most higher-level NLP applications involve aspects that emulate intelligent behaviour and apparent comprehension of natural language. More broadly speaking, the technical operationalization of increasingly advanced aspects of cognitive behaviour represents one of the developmental trajectories of NLP (see trends among CoNLL shared tasks above). Cognition refers to \"the mental action or process of acquiring knowledge and understanding through thought, experience, and the senses.\" Cognitive science is the interdisciplinary, scientific study of the mind and its processes. Cognitive linguistics is an interdisciplinary branch of linguistics, combining knowledge and research from both psychology and linguistics. Especially during the age of symbolic NLP, the area of computational linguistics maintained strong ties with cognitive studies. As an example, George Lakoff offers a methodology to build natural language processing (NLP) algorithms through the perspective of cognitive science, along with the findings of cognitive linguistics, with two defining aspects: Ties with cognitive linguistics are part of the historical heritage of NLP, but they have been less frequently addressed since the statistical turn during the 1990s. Nevertheless, approaches to develop cognitive models towards technically operationalizable frameworks have been pursued in the context of various frameworks, e.g., of cognitive grammar, functional grammar, construction grammar, computational psycholinguistics and cognitive neuroscience (e.g., ACT-R), however, with limited uptake in mainstream NLP (as measured by presence on major conferences of the ACL). More recently, ideas of cognitive NLP have been revived as an approach to achieve explainability, e.g., under the notion of \"cognitive AI\". Likewise, ideas of cognitive NLP are inherent to neural models multimodal NLP (although rarely made explicit). \n"
     ]
    }
   ],
   "source": [
    "import bs4 as bs\n",
    "import urllib.request\n",
    "import re\n",
    "\n",
    "url = 'https://en.wikipedia.org/wiki/Natural_language_processing'\n",
    "scraped_data = urllib.request.urlopen(url)\n",
    "text = scraped_data.read()\n",
    "parsed_text = bs.BeautifulSoup(text, 'lxml')\n",
    "# extract all paragraph tags\n",
    "paragraphs = parsed_text.find_all('p')\n",
    "formatted_text = ''\n",
    "\n",
    "for para in paragraphs:\n",
    "    formatted_text += para.text\n",
    "\n",
    "# Removing Square Brackets and Extra Spaces like references, etc.\n",
    "formatted_text = re.sub(r'\\[[0-9]*\\]', ' ', formatted_text)\n",
    "formatted_text = re.sub(r'\\s+', ' ', formatted_text)\n",
    "\n",
    "print(formatted_text)"
   ]
  },
  {
   "cell_type": "markdown",
   "metadata": {},
   "source": [
    "1.2 Preprocess the text data and must include tokenizing words, removing stop words and punctuation, etc."
   ]
  },
  {
   "cell_type": "code",
   "execution_count": 2,
   "outputs": [
    {
     "name": "stderr",
     "output_type": "stream",
     "text": [
      "[nltk_data] Downloading package omw-1.4 to\n",
      "[nltk_data]     C:\\Users\\yaraf\\AppData\\Roaming\\nltk_data...\n",
      "[nltk_data]   Package omw-1.4 is already up-to-date!\n"
     ]
    },
    {
     "name": "stdout",
     "output_type": "stream",
     "text": [
      "['natural', 'language', 'processing', 'nlp', 'interdisciplinary', 'subfield', 'linguistics', 'computer', 'science', 'artificial', 'intelligence', 'concerned', 'interaction', 'computer', 'human', 'language', 'particular', 'program', 'computer', 'process', 'analyze', 'large', 'amount', 'natural', 'language', 'data', 'goal', 'computer', 'capable', '``', 'understanding', \"''\", 'content', 'document', 'including', 'contextual', 'nuance', 'language', 'within', 'technology', 'accurately', 'extract', 'information', 'insight', 'contained', 'document', 'well', 'categorize', 'organize', 'document', 'challenge', 'natural', 'language', 'processing', 'frequently', 'involve', 'speech', 'recognition', 'natural-language', 'understanding', 'natural-language', 'generation', 'natural', 'language', 'processing', 'root', '1950s', 'already', '1950', 'alan', 'turing', 'published', 'article', 'titled', '``', 'computing', 'machinery', 'intelligence', \"''\", 'proposed', 'called', 'turing', 'test', 'criterion', 'intelligence', 'though', 'time', 'articulated', 'problem', 'separate', 'artificial', 'intelligence', 'proposed', 'test', 'includes', 'task', 'involves', 'automated', 'interpretation', 'generation', 'natural', 'language', 'premise', 'symbolic', 'nlp', 'well-summarized', 'john', 'searle', \"'s\", 'chinese', 'room', 'experiment', 'given', 'collection', 'rule', 'e.g.', 'chinese', 'phrasebook', 'question', 'matching', 'answer', 'computer', 'emulates', 'natural', 'language', 'understanding', 'nlp', 'task', 'applying', 'rule', 'data', 'confronts', '1980s', 'natural', 'language', 'processing', 'system', 'based', 'complex', 'set', 'hand-written', 'rule', 'starting', 'late', '1980s', 'however', 'revolution', 'natural', 'language', 'processing', 'introduction', 'machine', 'learning', 'algorithm', 'language', 'processing', 'due', 'steady', 'increase', 'computational', 'power', 'see', 'moore', \"'s\", 'law', 'gradual', 'lessening', 'dominance', 'chomskyan', 'theory', 'linguistics', 'e.g', 'transformational', 'grammar', 'whose', 'theoretical', 'underpinnings', 'discouraged', 'sort', 'corpus', 'linguistics', 'underlies', 'machine-learning', 'approach', 'language', 'processing', '2003', 'yoshua', 'bengio', 'co-authors', 'tried', 'use', 'multi-layer', 'perceptron', 'single', 'hidden', 'layer', 'context', 'length', 'several', 'word', 'trained', '14', 'million', 'word', 'cpu', 'cluster', 'language', 'modelling', 'overperformed', 'best', 'n-gram', 'model', 'typical', 'statistical', 'alogrithm', 'available', '2010', 'tomáš', 'mikolov', 'phd', 'student', 'brno', 'university', 'technology', 'co-authors', 'applied', 'simple', 'recurrent', 'neural', 'network', 'single', 'hidden', 'layer', 'language', 'modelling', 'following', 'year', 'went', 'develop', 'word2vec', '2010s', 'representation', 'learning', 'deep', 'neural', 'network-style', 'featuring', 'many', 'hidden', 'layer', 'machine', 'learning', 'method', 'became', 'widespread', 'natural', 'language', 'processing', 'popularity', 'due', 'partly', 'flurry', 'result', 'showing', 'technique', 'achieve', 'state-of-the-art', 'result', 'many', 'natural', 'language', 'task', 'e.g.', 'language', 'modeling', 'parsing', 'increasingly', 'important', 'medicine', 'healthcare', 'nlp', 'help', 'analyze', 'note', 'text', 'electronic', 'health', 'record', 'would', 'otherwise', 'inaccessible', 'study', 'seeking', 'improve', 'care', 'protect', 'patient', 'privacy', 'early', 'day', 'many', 'language-processing', 'system', 'designed', 'symbolic', 'method', 'i.e.', 'hand-coding', 'set', 'rule', 'coupled', 'dictionary', 'lookup', 'writing', 'grammar', 'devising', 'heuristic', 'rule', 'stemming', 'recent', 'system', 'based', 'machine-learning', 'algorithm', 'many', 'advantage', 'hand-produced', 'rule', 'despite', 'popularity', 'machine', 'learning', 'nlp', 'research', 'symbolic', 'method', 'still', '2020', 'commonly', 'used', 'since', 'so-called', '``', 'statistical', 'revolution', \"''\", 'late', '1980s', 'mid-1990s', 'much', 'natural', 'language', 'processing', 'research', 'relied', 'heavily', 'machine', 'learning', 'machine-learning', 'paradigm', 'call', 'instead', 'using', 'statistical', 'inference', 'automatically', 'learn', 'rule', 'analysis', 'large', 'corpus', 'plural', 'form', 'corpus', 'set', 'document', 'possibly', 'human', 'computer', 'annotation', 'typical', 'real-world', 'example', 'many', 'different', 'class', 'machine-learning', 'algorithm', 'applied', 'natural-language-processing', 'task', 'algorithm', 'take', 'input', 'large', 'set', '``', 'feature', \"''\", 'generated', 'input', 'data', 'increasingly', 'however', 'research', 'focused', 'statistical', 'model', 'make', 'soft', 'probabilistic', 'decision', 'based', 'attaching', 'real-valued', 'weight', 'input', 'feature', 'complex-valued', 'embeddings', 'neural', 'network', 'general', 'also', 'proposed', 'e.g', 'speech', 'model', 'advantage', 'express', 'relative', 'certainty', 'many', 'different', 'possible', 'answer', 'rather', 'one', 'producing', 'reliable', 'result', 'model', 'included', 'component', 'larger', 'system', 'earliest-used', 'machine', 'learning', 'algorithm', 'decision', 'tree', 'produced', 'system', 'hard', 'if–then', 'rule', 'similar', 'existing', 'handwritten', 'rule', 'however', 'part-of-speech', 'tagging', 'introduced', 'use', 'hidden', 'markov', 'model', 'natural', 'language', 'processing', 'increasingly', 'research', 'focused', 'statistical', 'model', 'make', 'soft', 'probabilistic', 'decision', 'based', 'attaching', 'real-valued', 'weight', 'feature', 'making', 'input', 'data', 'cache', 'language', 'model', 'upon', 'many', 'speech', 'recognition', 'system', 'rely', 'example', 'statistical', 'model', 'model', 'generally', 'robust', 'given', 'unfamiliar', 'input', 'especially', 'input', 'contains', 'error', 'common', 'real-world', 'data', 'produce', 'reliable', 'result', 'integrated', 'larger', 'system', 'comprising', 'multiple', 'subtasks', 'since', 'neural', 'turn', 'statistical', 'method', 'nlp', 'research', 'largely', 'replaced', 'neural', 'network', 'however', 'continue', 'relevant', 'context', 'statistical', 'interpretability', 'transparency', 'required', 'major', 'drawback', 'statistical', 'method', 'require', 'elaborate', 'feature', 'engineering', 'since', '2015', 'field', 'thus', 'largely', 'abandoned', 'statistical', 'method', 'shifted', 'neural', 'network', 'machine', 'learning', 'popular', 'technique', 'include', 'use', 'word', 'embeddings', 'capture', 'semantic', 'property', 'word', 'increase', 'end-to-end', 'learning', 'higher-level', 'task', 'e.g.', 'question', 'answering', 'instead', 'relying', 'pipeline', 'separate', 'intermediate', 'task', 'e.g.', 'part-of-speech', 'tagging', 'dependency', 'parsing', 'area', 'shift', 'entailed', 'substantial', 'change', 'nlp', 'system', 'designed', 'deep', 'neural', 'network-based', 'approach', 'may', 'viewed', 'new', 'paradigm', 'distinct', 'statistical', 'natural', 'language', 'processing', 'instance', 'term', 'neural', 'machine', 'translation', 'nmt', 'emphasizes', 'fact', 'deep', 'learning-based', 'approach', 'machine', 'translation', 'directly', 'learn', 'sequence-to-sequence', 'transformation', 'obviating', 'need', 'intermediate', 'step', 'word', 'alignment', 'language', 'modeling', 'used', 'statistical', 'machine', 'translation', 'smt', 'following', 'list', 'commonly', 'researched', 'task', 'natural', 'language', 'processing', 'task', 'direct', 'real-world', 'application', 'others', 'commonly', 'serve', 'subtasks', 'used', 'aid', 'solving', 'larger', 'task', 'though', 'natural', 'language', 'processing', 'task', 'closely', 'intertwined', 'subdivided', 'category', 'convenience', 'coarse', 'division', 'given', 'based', 'long-standing', 'trend', 'field', 'possible', 'extrapolate', 'future', 'direction', 'nlp', '2020', 'three', 'trend', 'among', 'topic', 'long-standing', 'series', 'conll', 'shared', 'task', 'observed', 'higher-level', 'nlp', 'application', 'involve', 'aspect', 'emulate', 'intelligent', 'behaviour', 'apparent', 'comprehension', 'natural', 'language', 'broadly', 'speaking', 'technical', 'operationalization', 'increasingly', 'advanced', 'aspect', 'cognitive', 'behaviour', 'represents', 'one', 'developmental', 'trajectory', 'nlp', 'see', 'trend', 'among', 'conll', 'shared', 'task', 'cognition', 'refers', '``', 'mental', 'action', 'process', 'acquiring', 'knowledge', 'understanding', 'thought', 'experience', 'sens', \"''\", 'cognitive', 'science', 'interdisciplinary', 'scientific', 'study', 'mind', 'process', 'cognitive', 'linguistics', 'interdisciplinary', 'branch', 'linguistics', 'combining', 'knowledge', 'research', 'psychology', 'linguistics', 'especially', 'age', 'symbolic', 'nlp', 'area', 'computational', 'linguistics', 'maintained', 'strong', 'tie', 'cognitive', 'study', 'example', 'george', 'lakoff', 'offer', 'methodology', 'build', 'natural', 'language', 'processing', 'nlp', 'algorithm', 'perspective', 'cognitive', 'science', 'along', 'finding', 'cognitive', 'linguistics', 'two', 'defining', 'aspect', 'tie', 'cognitive', 'linguistics', 'part', 'historical', 'heritage', 'nlp', 'le', 'frequently', 'addressed', 'since', 'statistical', 'turn', '1990s', 'nevertheless', 'approach', 'develop', 'cognitive', 'model', 'towards', 'technically', 'operationalizable', 'framework', 'pursued', 'context', 'various', 'framework', 'e.g.', 'cognitive', 'grammar', 'functional', 'grammar', 'construction', 'grammar', 'computational', 'psycholinguistics', 'cognitive', 'neuroscience', 'e.g.', 'act-r', 'however', 'limited', 'uptake', 'mainstream', 'nlp', 'measured', 'presence', 'major', 'conference', 'acl', 'recently', 'idea', 'cognitive', 'nlp', 'revived', 'approach', 'achieve', 'explainability', 'e.g.', 'notion', '``', 'cognitive', 'ai', \"''\", 'likewise', 'idea', 'cognitive', 'nlp', 'inherent', 'neural', 'model', 'multimodal', 'nlp', 'although', 'rarely', 'made', 'explicit']\n"
     ]
    }
   ],
   "source": [
    "# Preprocessing text before calculating word frequencies\n",
    "\n",
    "import nltk\n",
    "from nltk.corpus import stopwords\n",
    "from nltk.tokenize import word_tokenize\n",
    "from string import punctuation\n",
    "\n",
    "sw = stopwords.words('english')\n",
    "\n",
    "# Tokenize words\n",
    "words = word_tokenize(formatted_text)\n",
    "# Remove punctuations\n",
    "without_punct = [w.lower() for w in words if w.lower() not in punctuation]\n",
    "# Remove stop words\n",
    "words_without_stopwords = [w for w in without_punct if w not in sw]\n",
    "\n",
    "from nltk.stem import WordNetLemmatizer\n",
    "\n",
    "nltk.download('omw-1.4')\n",
    "# lemmatize words to root form to get better frequencies\n",
    "lemmatizer = WordNetLemmatizer()\n",
    "lemmatized_words = [lemmatizer.lemmatize(w) for w in words_without_stopwords]\n",
    "\n",
    "print(lemmatized_words)"
   ],
   "metadata": {
    "collapsed": false,
    "ExecuteTime": {
     "end_time": "2023-06-24T22:51:21.241240200Z",
     "start_time": "2023-06-24T22:51:14.652147Z"
    }
   }
  },
  {
   "cell_type": "markdown",
   "source": [
    "1.3 Calculate word frequencies or weighted word frequencies"
   ],
   "metadata": {
    "collapsed": false
   }
  },
  {
   "cell_type": "code",
   "execution_count": 3,
   "outputs": [
    {
     "name": "stdout",
     "output_type": "stream",
     "text": [
      "Top 10 weighted word Frequencies:\n",
      "language: 1.0\n",
      "natural: 0.6538461538461539\n",
      "nlp: 0.6538461538461539\n",
      "processing: 0.5384615384615384\n",
      "statistical: 0.5\n",
      "cognitive: 0.5\n",
      "task: 0.46153846153846156\n",
      "model: 0.4230769230769231\n",
      "linguistics: 0.34615384615384615\n",
      "rule: 0.34615384615384615\n"
     ]
    }
   ],
   "source": [
    "from nltk.probability import FreqDist\n",
    "\n",
    "\n",
    "def find_weighted_frequency(dist):\n",
    "    \"\"\"\n",
    "    Normalizing the frequency for better scoring. Get the max frequency and divide that for all frequency values\n",
    "    :param dist:\n",
    "    :return:\n",
    "    \"\"\"\n",
    "    max_freq = max(dist.values())\n",
    "    weighted_frequencies = {}\n",
    "\n",
    "    for _word, _frequency in dist.items():\n",
    "        weighted_frequencies[_word] = _frequency / max_freq\n",
    "\n",
    "    return weighted_frequencies\n",
    "\n",
    "\n",
    "# Calculate word frequencies\n",
    "freq_dist = FreqDist(lemmatized_words)\n",
    "weighted_word_frequencies = find_weighted_frequency(freq_dist)\n",
    "\n",
    "# Sort the weighted word frequencies in descending order\n",
    "sorted_frequencies = sorted(weighted_word_frequencies.items(), key=lambda x: x[1], reverse=True)\n",
    "\n",
    "print(\"Top 10 weighted word Frequencies:\")\n",
    "for word, frequency in sorted_frequencies[:10]:\n",
    "    print(f\"{word}: {frequency}\")"
   ],
   "metadata": {
    "collapsed": false,
    "ExecuteTime": {
     "end_time": "2023-06-24T22:51:59.428199500Z",
     "start_time": "2023-06-24T22:51:59.385467600Z"
    }
   }
  },
  {
   "cell_type": "markdown",
   "source": [
    "1.4 Score the sentences"
   ],
   "metadata": {
    "collapsed": false
   }
  },
  {
   "cell_type": "code",
   "execution_count": 34,
   "outputs": [
    {
     "name": "stdout",
     "output_type": "stream",
     "text": [
      "Top 10 sentence Frequencies:\n",
      "Natural language processing (NLP) is an interdisciplinary subfield of linguistics, computer science, and artificial intelligence concerned with the interactions between computers and human language, in particular how to program computers to process and analyze large amounts of natural language data.: 7.269230769230768\n",
      "Starting in the late 1980s, however, there was a revolution in natural language processing with the introduction of machine learning algorithms for language processing.: 4.9230769230769225\n",
      "However, part-of-speech tagging introduced the use of hidden Markov models to natural language processing, and increasingly, research has focused on statistical models, which make soft, probabilistic decisions based on attaching real-valued weights to the features making up the input data.: 4.884615384615384\n",
      "For instance, the term neural machine translation (NMT) emphasizes the fact that deep learning-based approaches to machine translation directly learn sequence-to-sequence transformations, obviating the need for intermediate steps such as word alignment and language modeling that was used in statistical machine translation (SMT).: 4.346153846153846\n",
      "In some areas, this shift has entailed substantial changes in how NLP systems are designed, such that deep neural network-based approaches may be viewed as a new paradigm distinct from statistical natural language processing.: 4.26923076923077\n",
      "In the 2010s, representation learning and deep neural network-style (featuring many hidden layers) machine learning methods became widespread in natural language processing.: 4.269230769230769\n",
      "That popularity was due partly to a flurry of results showing that such techniques can achieve state-of-the-art results in many natural language tasks, e.g., in language modeling and parsing.: 3.7307692307692313\n",
      "As of 2020, three trends among the topics of the long-standing series of CoNLL Shared Tasks can be observed: Most higher-level NLP applications involve aspects that emulate intelligent behaviour and apparent comprehension of natural language.: 3.1923076923076925\n",
      "Challenges in natural language processing frequently involve speech recognition, natural-language understanding, and natural-language generation.: 2.923076923076924\n",
      "More recently, ideas of cognitive NLP have been revived as an approach to achieve explainability, e.g., under the notion of \"cognitive AI\".: 2.8461538461538463\n"
     ]
    }
   ],
   "source": [
    "from nltk import sent_tokenize\n",
    "\n",
    "# this threshold is used to consider only sentences that are 50 words or lower.\n",
    "# Longer sentences have more words and when the score is calculated based on sum of individual words,\n",
    "# they will always get higher score.\n",
    "sentence_length_threshold = 50\n",
    "# tokenize sentences\n",
    "sentences = sent_tokenize(formatted_text)\n",
    "sentence_score = {}\n",
    "# iterate over each sentence, if it is less than threshold defined above, sum all the weighted\n",
    "# word frequencies of the words in the sentence\n",
    "for sentence in sentences:\n",
    "    sentence_words = word_tokenize(sentence.lower())\n",
    "    if len(sentence_words) <= sentence_length_threshold:\n",
    "        sentence_frequency = sum(weighted_word_frequencies.get(word, 0) for word in sentence_words)\n",
    "        sentence_score[sentence] = sentence_frequency\n",
    "\n",
    "# Sort the weighted word frequencies in descending order\n",
    "sorted_sentence_frequencies = sorted(sentence_score.items(), key=lambda x: x[1], reverse=True)\n",
    "\n",
    "# Print the top 10 frequencies\n",
    "print(\"Top 10 sentence Frequencies:\")\n",
    "for sentence, frequency in sorted_sentence_frequencies[:10]:\n",
    "    print(f\"{sentence}: {frequency}\")"
   ],
   "metadata": {
    "collapsed": false,
    "ExecuteTime": {
     "end_time": "2023-06-24T23:07:55.567839Z",
     "start_time": "2023-06-24T23:07:55.528511800Z"
    }
   }
  },
  {
   "cell_type": "markdown",
   "source": [
    "1.5 a) Build a summary based on sentence count"
   ],
   "metadata": {
    "collapsed": false
   }
  },
  {
   "cell_type": "code",
   "execution_count": 5,
   "outputs": [
    {
     "name": "stdout",
     "output_type": "stream",
     "text": [
      "Natural language processing (NLP) is an interdisciplinary subfield of linguistics, computer science, and artificial intelligence concerned with the interactions between computers and human language, in particular how to program computers to process and analyze large amounts of natural language data. Starting in the late 1980s, however, there was a revolution in natural language processing with the introduction of machine learning algorithms for language processing. However, part-of-speech tagging introduced the use of hidden Markov models to natural language processing, and increasingly, research has focused on statistical models, which make soft, probabilistic decisions based on attaching real-valued weights to the features making up the input data.\n"
     ]
    }
   ],
   "source": [
    "def summary_by_sentence_count(count, sentence_freq):\n",
    "    \"\"\"\n",
    "    Summarize using the top sentences based on frequencies\n",
    "    :param count:\n",
    "    :param sentence_freq:\n",
    "    :return:\n",
    "    \"\"\"\n",
    "    tokenized_sentences = sent_tokenize(\" \".join(sentence for sentence, _ in sentence_freq))\n",
    "    summary_sentences = tokenized_sentences[:count]\n",
    "    # if order of sentences in original needs to be preserved then use below\n",
    "    # summary_sentences = [sentence for sentence in sentences if sentence in selected_sentences]\n",
    "    return ' '.join(summary_sentences)\n",
    "\n",
    "\n",
    "sentence_count = 3\n",
    "summary = summary_by_sentence_count(sentence_count, sorted_sentence_frequencies)\n",
    "print(summary)"
   ],
   "metadata": {
    "collapsed": false,
    "ExecuteTime": {
     "end_time": "2023-06-24T22:52:26.924631100Z",
     "start_time": "2023-06-24T22:52:26.876345600Z"
    }
   }
  },
  {
   "cell_type": "markdown",
   "source": [
    "1.5 b) Build a summary based on word count"
   ],
   "metadata": {
    "collapsed": false
   }
  },
  {
   "cell_type": "code",
   "execution_count": 16,
   "outputs": [
    {
     "name": "stdout",
     "output_type": "stream",
     "text": [
      "Natural language processing (NLP) is an interdisciplinary subfield of linguistics, computer science, and artificial intelligence concerned with the interactions between computers and human language, in particular how to program computers to process and analyze large amounts of natural language data.\n"
     ]
    }
   ],
   "source": [
    "# Summarization based on word count\n",
    "# Assumption: The summarization is not exactly cut iff at max words. It will most likely be less\n",
    "# than the requested cutoff. It is ensured the sentences are full and added to summary until threshold is not\n",
    "# exceeded\n",
    "def summary_by_word_count(max_words, sentence_freq):\n",
    "    \"\"\"\n",
    "    Summarization based on word count\n",
    "    :param max_words:\n",
    "    :param sentence_freq:\n",
    "    :return:\n",
    "    \"\"\"\n",
    "    selected_sentences = []\n",
    "    word_count = 0\n",
    "    # for each of the sentence in the sorted sentence frequency dictionary,\n",
    "    # track the words and if the next sentence is more than the threshold,\n",
    "    # exit\n",
    "    for sentence, _ in sentence_freq:\n",
    "        if word_count + len(word_tokenize(sentence)) <= max_words:\n",
    "            selected_sentences.append(sentence)\n",
    "            word_count += len(word_tokenize(sentence))\n",
    "        else:\n",
    "            break\n",
    "    return ' '.join(selected_sentences)\n",
    "\n",
    "max_word_count = 50\n",
    "summary = summary_by_word_count(max_word_count, sorted_sentence_frequencies)\n",
    "print(summary)"
   ],
   "metadata": {
    "collapsed": false,
    "ExecuteTime": {
     "end_time": "2023-06-24T22:55:03.737401800Z",
     "start_time": "2023-06-24T22:55:03.717027400Z"
    }
   }
  },
  {
   "cell_type": "markdown",
   "source": [
    "1.5 c) Build a summary based on percentage"
   ],
   "metadata": {
    "collapsed": false
   }
  },
  {
   "cell_type": "code",
   "execution_count": 19,
   "outputs": [
    {
     "name": "stdout",
     "output_type": "stream",
     "text": [
      "311\n",
      "Natural language processing (NLP) is an interdisciplinary subfield of linguistics, computer science, and artificial intelligence concerned with the interactions between computers and human language, in particular how to program computers to process and analyze large amounts of natural language data. Starting in the late 1980s, however, there was a revolution in natural language processing with the introduction of machine learning algorithms for language processing. However, part-of-speech tagging introduced the use of hidden Markov models to natural language processing, and increasingly, research has focused on statistical models, which make soft, probabilistic decisions based on attaching real-valued weights to the features making up the input data. For instance, the term neural machine translation (NMT) emphasizes the fact that deep learning-based approaches to machine translation directly learn sequence-to-sequence transformations, obviating the need for intermediate steps such as word alignment and language modeling that was used in statistical machine translation (SMT). In some areas, this shift has entailed substantial changes in how NLP systems are designed, such that deep neural network-based approaches may be viewed as a new paradigm distinct from statistical natural language processing. In the 2010s, representation learning and deep neural network-style (featuring many hidden layers) machine learning methods became widespread in natural language processing. That popularity was due partly to a flurry of results showing that such techniques can achieve state-of-the-art results in many natural language tasks, e.g., in language modeling and parsing. As of 2020, three trends among the topics of the long-standing series of CoNLL Shared Tasks can be observed: Most higher-level NLP applications involve aspects that emulate intelligent behaviour and apparent comprehension of natural language.\n"
     ]
    }
   ],
   "source": [
    "# This is similar to the above except the number of the words for summarization\n",
    "# is calculated based on the percentage of the entire corpus\n",
    "word_percentage = 0.2\n",
    "max_word_count = int(len(words) * word_percentage)\n",
    "print(max_word_count)\n",
    "\n",
    "summary = summary_by_word_count(max_word_count, sorted_sentence_frequencies)\n",
    "print(summary)\n"
   ],
   "metadata": {
    "collapsed": false,
    "ExecuteTime": {
     "end_time": "2023-06-24T23:00:19.399406600Z",
     "start_time": "2023-06-24T23:00:19.374561800Z"
    }
   }
  },
  {
   "cell_type": "markdown",
   "source": [
    "##### Task 2 : Text Summarization with N-grams </b>"
   ],
   "metadata": {
    "collapsed": false
   }
  },
  {
   "cell_type": "markdown",
   "source": [
    "2.1 Follow the following code examples to generate N-grams with NLTK:"
   ],
   "metadata": {
    "collapsed": false
   }
  },
  {
   "cell_type": "code",
   "execution_count": 8,
   "outputs": [],
   "source": [
    "from nltk.util import ngrams\n",
    "\n",
    "\n",
    "def generate_ngrams(input_text, n):\n",
    "    \"\"\"\n",
    "    generate ngrams for given text\n",
    "    :param input_text:\n",
    "    :param n:\n",
    "    :return:\n",
    "    \"\"\"\n",
    "    n_grams_out = ngrams(word_tokenize(input_text.lower()), n)\n",
    "    return [' '.join(grams) for grams in n_grams_out]\n"
   ],
   "metadata": {
    "collapsed": false,
    "ExecuteTime": {
     "end_time": "2023-06-24T22:53:02.837439700Z",
     "start_time": "2023-06-24T22:53:02.813183600Z"
    }
   }
  },
  {
   "cell_type": "markdown",
   "source": [
    "a) Use NLTK to get N-grams and FreqDist() to calculate the n-gram frequencies."
   ],
   "metadata": {
    "collapsed": false
   }
  },
  {
   "cell_type": "code",
   "execution_count": 9,
   "outputs": [
    {
     "name": "stdout",
     "output_type": "stream",
     "text": [
      "Top 10 n-grams:\n",
      "natural language processing: 12\n",
      "language processing .: 5\n",
      "in natural language: 4\n",
      "( e.g. ,: 4\n",
      "of natural language: 3\n",
      ", however ,: 3\n",
      ", e.g. ,: 3\n",
      "language processing (: 2\n",
      "processing ( nlp: 2\n",
      "( nlp ): 2\n"
     ]
    },
    {
     "data": {
      "text/plain": "<Figure size 1000x600 with 1 Axes>",
      "image/png": "[encoded data removed]"
     },
     "metadata": {},
     "output_type": "display_data"
    },
    {
     "data": {
      "text/plain": "<Axes: xlabel='Samples', ylabel='Counts'>"
     },
     "execution_count": 9,
     "metadata": {},
     "output_type": "execute_result"
    }
   ],
   "source": [
    "import matplotlib.pyplot as plt\n",
    "\n",
    "n = 3\n",
    "\n",
    "# generate ngrams and its frequency distribution\n",
    "n_grams = generate_ngrams(formatted_text, 3)\n",
    "n_gram_freq = FreqDist(n_grams)\n",
    "\n",
    "print(\"Top 10 n-grams:\")\n",
    "for gram, frequency in n_gram_freq.most_common(10):\n",
    "    print(f\"{gram}: {frequency}\")\n",
    "\n",
    "# Plot the 30 most common n-grams\n",
    "plt.figure(figsize=(10, 6))\n",
    "n_gram_freq.plot(30)\n"
   ],
   "metadata": {
    "collapsed": false,
    "ExecuteTime": {
     "end_time": "2023-06-24T22:53:16.935345Z",
     "start_time": "2023-06-24T22:53:15.762256800Z"
    }
   }
  },
  {
   "cell_type": "markdown",
   "source": [
    "b) Find weighted frequency occurrences from FreqDist. You can use the similar function from Task 1."
   ],
   "metadata": {
    "collapsed": false
   }
  },
  {
   "cell_type": "code",
   "execution_count": 10,
   "outputs": [
    {
     "data": {
      "text/plain": "[('natural language processing', 1.0),\n ('language processing (', 0.16666666666666666),\n ('processing ( nlp', 0.16666666666666666),\n ('( nlp )', 0.16666666666666666),\n ('nlp ) is', 0.08333333333333333),\n (') is an', 0.08333333333333333),\n ('is an interdisciplinary', 0.16666666666666666),\n ('an interdisciplinary subfield', 0.08333333333333333),\n ('interdisciplinary subfield of', 0.08333333333333333),\n ('subfield of linguistics', 0.08333333333333333),\n ('of linguistics ,', 0.16666666666666666),\n ('linguistics , computer', 0.08333333333333333),\n (', computer science', 0.08333333333333333),\n ('computer science ,', 0.08333333333333333),\n ('science , and', 0.08333333333333333),\n (', and artificial', 0.08333333333333333),\n ('and artificial intelligence', 0.08333333333333333),\n ('artificial intelligence concerned', 0.08333333333333333),\n ('intelligence concerned with', 0.08333333333333333),\n ('concerned with the', 0.08333333333333333)]"
     },
     "execution_count": 10,
     "metadata": {},
     "output_type": "execute_result"
    }
   ],
   "source": [
    "ngram_freqs = find_weighted_frequency(n_gram_freq)\n",
    "list(ngram_freqs.items())[0:20]"
   ],
   "metadata": {
    "collapsed": false,
    "ExecuteTime": {
     "end_time": "2023-06-24T22:53:29.757398200Z",
     "start_time": "2023-06-24T22:53:29.743403400Z"
    }
   }
  },
  {
   "cell_type": "markdown",
   "source": [
    "c) Define the function like calculate_sentence_scores_ngram(sent_tokens, ngram_freqs, n_grams) to calculate the sentence scores for any N-grams. This function is similar to the one in Task 1.\n"
   ],
   "metadata": {
    "collapsed": false
   }
  },
  {
   "cell_type": "code",
   "execution_count": 35,
   "outputs": [
    {
     "data": {
      "text/plain": "[('However, part-of-speech tagging introduced the use of hidden Markov models to natural language processing, and increasingly, research has focused on statistical models, which make soft, probabilistic decisions based on attaching real-valued weights to the features making up the input data.',\n  6.416666666666668),\n ('Natural language processing (NLP) is an interdisciplinary subfield of linguistics, computer science, and artificial intelligence concerned with the interactions between computers and human language, in particular how to program computers to process and analyze large amounts of natural language data.',\n  5.166666666666666),\n ('Increasingly, however, research has focused on statistical models, which make soft, probabilistic decisions based on attaching real-valued weights to each input feature (complex-valued embeddings, and neural networks in general have also been proposed, for e.g.',\n  5.0833333333333295),\n ('For instance, the term neural machine translation (NMT) emphasizes the fact that deep learning-based approaches to machine translation directly learn sequence-to-sequence transformations, obviating the need for intermediate steps such as word alignment and language modeling that was used in statistical machine translation (SMT).',\n  4.166666666666668),\n ('In some areas, this shift has entailed substantial changes in how NLP systems are designed, such that deep neural network-based approaches may be viewed as a new paradigm distinct from statistical natural language processing.',\n  4.166666666666667),\n ('Starting in the late 1980s, however, there was a revolution in natural language processing with the introduction of machine learning algorithms for language processing.',\n  4.083333333333334),\n ('In 2010, Tomáš Mikolov (then a PhD student at Brno University of Technology) with co-authors applied a simple recurrent neural network with a single hidden layer to language modelling, and in the following years he went on to develop Word2vec.',\n  3.8333333333333344),\n ('Already in 1950, Alan Turing published an article titled \"Computing Machinery and Intelligence\" which proposed what is now called the Turing test as a criterion of intelligence, though at the time that was not articulated as a problem separate from artificial intelligence.',\n  3.750000000000002),\n ('The machine-learning paradigm calls instead for using statistical inference to automatically learn such rules through the analysis of large corpora (the plural form of corpus, is a set of documents, possibly with human or computer annotations) of typical real-world examples.',\n  3.7500000000000013),\n ('Such models are generally more robust when given unfamiliar input, especially input that contains errors (as is very common for real-world data), and produce more reliable results when integrated into a larger system comprising multiple subtasks.',\n  3.5000000000000004)]"
     },
     "execution_count": 35,
     "metadata": {},
     "output_type": "execute_result"
    }
   ],
   "source": [
    "def calculate_sentence_scores_ngram(sent_tokens, ngram_freqs, n_grams, n):\n",
    "    \"\"\"\n",
    "    calculate the sentence score using the ngrams frequency\n",
    "    :param sent_tokens:\n",
    "    :param ngram_freqs:\n",
    "    :param n_grams:\n",
    "    :param n:\n",
    "    :return:\n",
    "    \"\"\"\n",
    "    weighted_ngram_frequencies = {}\n",
    "    # for each sentence, if less than word threshold, sum the ngram frequencies for each ngram in the sentence\n",
    "    for sentence in sent_tokens:\n",
    "        sentence_words = word_tokenize(sentence.lower())\n",
    "        if len(sentence_words) <= sentence_length_threshold:\n",
    "            sentence_n_grams = list(ngrams(sentence_words, n))\n",
    "            for ng in sentence_n_grams:\n",
    "                if ' '.join(ng) in n_grams:\n",
    "                    if sentence in weighted_ngram_frequencies:\n",
    "                        weighted_ngram_frequencies[sentence] += ngram_freqs[' '.join(ng)]\n",
    "                    else:\n",
    "                        weighted_ngram_frequencies[sentence] = ngram_freqs[' '.join(ng)]\n",
    "    return weighted_ngram_frequencies\n",
    "\n",
    "\n",
    "# Calculate sentence scores using n-grams\n",
    "sentence_scores_n_gram = calculate_sentence_scores_ngram(sentences, ngram_freqs, n_grams, n)\n",
    "sorted_sentence_scores_n_gram = sorted(sentence_scores_n_gram.items(), key=lambda x: x[1], reverse=True)\n",
    "sorted_sentence_scores_n_gram[:10]"
   ],
   "metadata": {
    "collapsed": false,
    "ExecuteTime": {
     "end_time": "2023-06-24T23:08:05.449013700Z",
     "start_time": "2023-06-24T23:08:05.413980400Z"
    }
   }
  },
  {
   "cell_type": "markdown",
   "source": [
    "d) Summary text based on sentence count"
   ],
   "metadata": {
    "collapsed": false
   }
  },
  {
   "cell_type": "code",
   "execution_count": 14,
   "outputs": [
    {
     "name": "stdout",
     "output_type": "stream",
     "text": [
      "However, part-of-speech tagging introduced the use of hidden Markov models to natural language processing, and increasingly, research has focused on statistical models, which make soft, probabilistic decisions based on attaching real-valued weights to the features making up the input data. Natural language processing (NLP) is an interdisciplinary subfield of linguistics, computer science, and artificial intelligence concerned with the interactions between computers and human language, in particular how to program computers to process and analyze large amounts of natural language data. Increasingly, however, research has focused on statistical models, which make soft, probabilistic decisions based on attaching real-valued weights to each input feature (complex-valued embeddings, and neural networks in general have also been proposed, for e.g.\n"
     ]
    }
   ],
   "source": [
    "sentence_count = 3\n",
    "summary = summary_by_sentence_count(sentence_count, sorted_sentence_scores_n_gram)\n",
    "print(summary)"
   ],
   "metadata": {
    "collapsed": false,
    "ExecuteTime": {
     "end_time": "2023-06-24T22:54:30.980588300Z",
     "start_time": "2023-06-24T22:54:30.953271500Z"
    }
   }
  },
  {
   "cell_type": "markdown",
   "source": [
    "d) Summary text based on word count"
   ],
   "metadata": {
    "collapsed": false
   }
  },
  {
   "cell_type": "code",
   "execution_count": 17,
   "outputs": [
    {
     "name": "stdout",
     "output_type": "stream",
     "text": [
      "However, part-of-speech tagging introduced the use of hidden Markov models to natural language processing, and increasingly, research has focused on statistical models, which make soft, probabilistic decisions based on attaching real-valued weights to the features making up the input data.\n"
     ]
    }
   ],
   "source": [
    "max_word_count = 50\n",
    "summary = summary_by_word_count(max_word_count, sorted_sentence_scores_n_gram)\n",
    "print(summary)"
   ],
   "metadata": {
    "collapsed": false,
    "ExecuteTime": {
     "end_time": "2023-06-24T22:55:18.386679600Z",
     "start_time": "2023-06-24T22:55:18.374682100Z"
    }
   }
  },
  {
   "cell_type": "markdown",
   "source": [
    "d) Summary text based on word percentage count"
   ],
   "metadata": {
    "collapsed": false
   }
  },
  {
   "cell_type": "code",
   "execution_count": 20,
   "outputs": [
    {
     "name": "stdout",
     "output_type": "stream",
     "text": [
      "311\n",
      "However, part-of-speech tagging introduced the use of hidden Markov models to natural language processing, and increasingly, research has focused on statistical models, which make soft, probabilistic decisions based on attaching real-valued weights to the features making up the input data. Natural language processing (NLP) is an interdisciplinary subfield of linguistics, computer science, and artificial intelligence concerned with the interactions between computers and human language, in particular how to program computers to process and analyze large amounts of natural language data. Increasingly, however, research has focused on statistical models, which make soft, probabilistic decisions based on attaching real-valued weights to each input feature (complex-valued embeddings, and neural networks in general have also been proposed, for e.g. For instance, the term neural machine translation (NMT) emphasizes the fact that deep learning-based approaches to machine translation directly learn sequence-to-sequence transformations, obviating the need for intermediate steps such as word alignment and language modeling that was used in statistical machine translation (SMT). In some areas, this shift has entailed substantial changes in how NLP systems are designed, such that deep neural network-based approaches may be viewed as a new paradigm distinct from statistical natural language processing. Starting in the late 1980s, however, there was a revolution in natural language processing with the introduction of machine learning algorithms for language processing. In 2010, Tomáš Mikolov (then a PhD student at Brno University of Technology) with co-authors applied a simple recurrent neural network with a single hidden layer to language modelling, and in the following years he went on to develop Word2vec.\n"
     ]
    }
   ],
   "source": [
    "word_percentage = 0.2\n",
    "max_word_count = int(len(words) * word_percentage)\n",
    "print(max_word_count)\n",
    "\n",
    "summary = summary_by_word_count(max_word_count, sorted_sentence_scores_n_gram)\n",
    "print(summary)"
   ],
   "metadata": {
    "collapsed": false,
    "ExecuteTime": {
     "end_time": "2023-06-24T23:00:48.433301400Z",
     "start_time": "2023-06-24T23:00:48.380142300Z"
    }
   }
  },
  {
   "cell_type": "markdown",
   "source": [
    "##### Task 3 : Comparisons - Compare these two methods for text summarization. What are different and why? Please clearly explain </b>"
   ],
   "metadata": {
    "collapsed": false
   }
  },
  {
   "cell_type": "markdown",
   "source": [
    "The two methods for text summarization used here are the frequency-based approach using word frequencies and the approach using N-grams.\n",
    "\n",
    "Frequency-based Approach using Word Frequencies:\n",
    "This approach involves calculating the frequency of each word in the text and using it to determine the importance of the word.\n",
    "- The word frequencies are used to identify the most common and significant words in the text\n",
    "- Sentences containing these important words are given higher scores and considered more relevant for the summary\n",
    "- The summary is generated based on the top-scoring sentences, either by sentence count, word count, or percentage\n",
    "- This method is based on the assumption that important information is often repeated and thus represented by frequent words\n",
    "- It is relatively simpler to implement and does not require additional language processing techniques\n",
    "\n",
    "N-grams Approach:\n",
    "- In this approach, N-grams (sequences of N consecutive words) are used to capture the context and semantic relationships between words.\n",
    "- Instead of considering individual words, it focuses on capturing the co-occurrence of words as multi-word units.\n",
    "- Tri-grams, in this case, are used to represent three-word sequences, providing more context and meaning.\n",
    "- The frequencies of the tri-grams are calculated, and sentences containing important tri-grams are given higher scores.\n",
    "- The summary is generated based on the top-scoring sentences, similar to the frequency-based approach.\n",
    "- N-grams capture more contextual information and can identify meaningful phrases or expressions that may not be evident with individual word frequencies alone.\n",
    "- This approach is more sophisticated and can provide a better understanding of the text's structure and semantic relationships.\n",
    "\n",
    "The summary text generated using the two approaches are different. In n-gram approach \"natural language processing\" is found multiple times in the first summary text whereas the word \"language\" is found multiple times in the first sentence. This shows that n-gram approach is more suited to consider contextual information."
   ],
   "metadata": {
    "collapsed": false
   }
  },
  {
   "cell_type": "markdown",
   "source": [
    "### References\n",
    "\n",
    "- Dr.Liao's code example from Module 5\n",
    "- Georgiannacambel. (2020). Retrieved from https://kgptalkie.com/text-summarization-using-nlp/"
   ],
   "metadata": {
    "collapsed": false
   }
  }
 ],
 "metadata": {
  "kernelspec": {
   "display_name": "PyCharm (ait-526)",
   "language": "python",
   "name": "pycharm-7e96a741"
  },
  "language_info": {
   "codemirror_mode": {
    "name": "ipython",
    "version": 3
   },
   "file_extension": ".py",
   "mimetype": "text/x-python",
   "name": "python",
   "nbconvert_exporter": "python",
   "pygments_lexer": "ipython3",
   "version": "3.9.16"
  }
 },
 "nbformat": 4,
 "nbformat_minor": 4
}
